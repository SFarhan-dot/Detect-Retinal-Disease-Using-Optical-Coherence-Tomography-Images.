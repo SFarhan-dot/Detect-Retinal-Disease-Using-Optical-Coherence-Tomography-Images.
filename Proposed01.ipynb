{
  "cells": [
    {
      "cell_type": "markdown",
      "metadata": {
        "id": "view-in-github",
        "colab_type": "text"
      },
      "source": [
        "<a href=\"https://colab.research.google.com/github/SFarhan-dot/Detect-Retinal-Disease-Using-Optical-Coherence-Tomography-Images./blob/main/Proposed01.ipynb\" target=\"_parent\"><img src=\"https://colab.research.google.com/assets/colab-badge.svg\" alt=\"Open In Colab\"/></a>"
      ]
    },
    {
      "cell_type": "code",
      "execution_count": 1,
      "metadata": {
        "id": "cA-tr923Xdkb"
      },
      "outputs": [],
      "source": [
        "import tensorflow as tf\n",
        "import numpy as np\n",
        "import cv2\n",
        "import os\n",
        "from sklearn.model_selection import train_test_split\n",
        "import matplotlib.pyplot as plt\n",
        "from keras.preprocessing.image import ImageDataGenerator\n",
        "from keras.utils.np_utils import to_categorical\n",
        "from keras.models import Sequential\n",
        "from keras.layers import Dense\n",
        "from tensorflow.keras.optimizers import Adam\n",
        "from keras.layers import Dropout,Flatten\n",
        "from keras.layers.convolutional import Conv2D,MaxPooling2D"
      ]
    },
    {
      "cell_type": "code",
      "execution_count": 2,
      "metadata": {
        "id": "YxVqvJi1XmH1"
      },
      "outputs": [],
      "source": [
        "train_path =\"/content/drive/MyDrive/Thesis/train\"\n",
        "test_path =\"/content/drive/MyDrive/Thesis/test\"\n",
        "val_path =\"/content/drive/MyDrive/Thesis/val\"\n",
        "test_ratio=0.2\n",
        "val_ratio=0.2\n",
        "image_size=(128,128,3)"
      ]
    },
    {
      "cell_type": "code",
      "execution_count": 3,
      "metadata": {
        "colab": {
          "base_uri": "https://localhost:8080/"
        },
        "id": "q-G85n2IX-Wc",
        "outputId": "fc22ec7f-4118-4f56-c20a-2fcbc9fe8afb"
      },
      "outputs": [
        {
          "output_type": "stream",
          "name": "stdout",
          "text": [
            "Total Number of Classes Detected : 4\n"
          ]
        }
      ],
      "source": [
        "myList = os.listdir(train_path)\n",
        "print(\"Total Number of Classes Detected :\",len(myList))"
      ]
    },
    {
      "cell_type": "code",
      "execution_count": 4,
      "metadata": {
        "colab": {
          "base_uri": "https://localhost:8080/"
        },
        "id": "97e6zQB8YBkb",
        "outputId": "4fcccc99-7a4a-4c67-cbf6-1c27ea56a352"
      },
      "outputs": [
        {
          "output_type": "stream",
          "name": "stdout",
          "text": [
            "['NORMAL', 'CNV', 'DRUSEN', 'DME']\n"
          ]
        }
      ],
      "source": [
        "print(myList)\n",
        "noOfclasses= len(myList)"
      ]
    },
    {
      "cell_type": "code",
      "execution_count": 5,
      "metadata": {
        "colab": {
          "base_uri": "https://localhost:8080/"
        },
        "id": "e2UhtVvJYIc3",
        "outputId": "b7e331bf-437f-4f44-a666-0d1d7f130247"
      },
      "outputs": [
        {
          "output_type": "stream",
          "name": "stdout",
          "text": [
            "NORMAL CNV DRUSEN DME "
          ]
        }
      ],
      "source": [
        "images=[]\n",
        "classNo=[]\n",
        "CATEGORIES = ['NORMAL',\"CNV\",\"DME\",\"DRUSEN\"]\n",
        "for x in myList:\n",
        "    myPicList = os.listdir(train_path+\"/\"+str(x))\n",
        "    for y in myPicList:\n",
        "        curImg = cv2.imread(train_path+\"/\"+str(x)+\"/\"+y)\n",
        "        curImg = cv2.resize(curImg,(image_size[0],image_size[1]))\n",
        "        images.append(curImg)\n",
        "        classNo.append(CATEGORIES.index(x))\n",
        "    print(x,end=\" \")"
      ]
    },
    {
      "cell_type": "code",
      "execution_count": 6,
      "metadata": {
        "colab": {
          "base_uri": "https://localhost:8080/"
        },
        "id": "RWae40RsY6e8",
        "outputId": "ce9f7816-74a1-4aaa-a0fe-340a8e8223d4"
      },
      "outputs": [
        {
          "output_type": "stream",
          "name": "stdout",
          "text": [
            "NORMAL CNV DRUSEN DME "
          ]
        }
      ],
      "source": [
        "x_test=[]\n",
        "y_test=[]\n",
        "CATEGORIES = ['NORMAL',\"CNV\",\"DME\",\"DRUSEN\"]\n",
        "for x in myList:\n",
        "    myPicList = os.listdir(test_path+\"/\"+str(x))\n",
        "    for y in myPicList:\n",
        "        curImg = cv2.imread(test_path+\"/\"+str(x)+\"/\"+y)\n",
        "        curImg = cv2.resize(curImg,(image_size[0],image_size[1]))\n",
        "        x_test.append(curImg)\n",
        "        y_test.append(CATEGORIES.index(x))\n",
        "    print(x,end=\" \")"
      ]
    },
    {
      "cell_type": "code",
      "execution_count": 7,
      "metadata": {
        "colab": {
          "base_uri": "https://localhost:8080/"
        },
        "id": "Z1J6Jk0RZLf0",
        "outputId": "21e6d7a0-56ce-4859-a674-9a4d9ac8c54d"
      },
      "outputs": [
        {
          "output_type": "stream",
          "name": "stdout",
          "text": [
            "NORMAL CNV DRUSEN DME "
          ]
        }
      ],
      "source": [
        "x_val=[]\n",
        "y_val=[]\n",
        "CATEGORIES = ['NORMAL',\"CNV\",\"DME\",\"DRUSEN\"]\n",
        "for x in myList:\n",
        "    myPicList = os.listdir(val_path+\"/\"+str(x))\n",
        "    for y in myPicList:\n",
        "        curImg = cv2.imread(val_path+\"/\"+str(x)+\"/\"+y)\n",
        "        curImg = cv2.resize(curImg,(image_size[0],image_size[1]))\n",
        "        x_val.append(curImg)\n",
        "        y_val.append(CATEGORIES.index(x))\n",
        "    print(x,end=\" \")"
      ]
    },
    {
      "cell_type": "code",
      "execution_count": 8,
      "metadata": {
        "colab": {
          "base_uri": "https://localhost:8080/"
        },
        "id": "neXhFmELZP9s",
        "outputId": "6a1921d8-b509-4710-c5a5-78fbec75ab07"
      },
      "outputs": [
        {
          "output_type": "stream",
          "name": "stdout",
          "text": [
            "14400\n",
            "14400\n"
          ]
        }
      ],
      "source": [
        "print(len(images))\n",
        "print(len(classNo))"
      ]
    },
    {
      "cell_type": "code",
      "execution_count": 9,
      "metadata": {
        "id": "xdlCk2e-ZStr"
      },
      "outputs": [],
      "source": [
        "x_train = np.array(images)\n",
        "y_train = np.array(classNo)"
      ]
    },
    {
      "cell_type": "code",
      "execution_count": 10,
      "metadata": {
        "id": "yyzGITP-ZVYL"
      },
      "outputs": [],
      "source": [
        "x_test = np.array(x_test)\n",
        "y_test = np.array(y_test)\n",
        "x_val = np.array(x_val)\n",
        "y_val = np.array(y_val)"
      ]
    },
    {
      "cell_type": "code",
      "execution_count": 11,
      "metadata": {
        "colab": {
          "base_uri": "https://localhost:8080/"
        },
        "id": "vzwUvr-LZYf0",
        "outputId": "3b8041a4-0b66-4a54-d37a-0eb092f47ea9"
      },
      "outputs": [
        {
          "output_type": "stream",
          "name": "stdout",
          "text": [
            "(14400, 128, 128, 3)\n",
            "(968, 128, 128, 3)\n"
          ]
        }
      ],
      "source": [
        "print(x_train.shape)\n",
        "print(x_test.shape)"
      ]
    },
    {
      "cell_type": "code",
      "execution_count": 12,
      "metadata": {
        "id": "9YgmhxQwZcAr"
      },
      "outputs": [],
      "source": [
        "del images\n",
        "del classNo"
      ]
    },
    {
      "cell_type": "code",
      "execution_count": 13,
      "metadata": {
        "colab": {
          "base_uri": "https://localhost:8080/"
        },
        "id": "3pFMzI0-ZeTL",
        "outputId": "cdbf0945-7951-41d3-96e6-c7002e055da2"
      },
      "outputs": [
        {
          "output_type": "stream",
          "name": "stdout",
          "text": [
            "(14400, 128, 128, 3)\n",
            "(968, 128, 128, 3)\n",
            "(32, 128, 128, 3)\n"
          ]
        }
      ],
      "source": [
        "print(x_train.shape)\n",
        "print(x_test.shape)\n",
        "print(x_val.shape)"
      ]
    },
    {
      "cell_type": "code",
      "execution_count": 14,
      "metadata": {
        "colab": {
          "base_uri": "https://localhost:8080/"
        },
        "id": "cttaIb8EZg7k",
        "outputId": "10831427-a477-4959-9307-93d81e8ee900"
      },
      "outputs": [
        {
          "output_type": "stream",
          "name": "stdout",
          "text": [
            "[3438, 3840, 3714, 3408]\n"
          ]
        }
      ],
      "source": [
        "numofSamples=[]\n",
        "for x in range(0,noOfclasses):\n",
        "    numofSamples.append(len(np.where(y_train==x)[0]))\n",
        "print(numofSamples)"
      ]
    },
    {
      "cell_type": "code",
      "execution_count": 15,
      "metadata": {
        "colab": {
          "base_uri": "https://localhost:8080/",
          "height": 487
        },
        "id": "uDUgdUYjZjks",
        "outputId": "e3b6c5f7-f8e3-48bb-e17b-2ee9cefd30f9"
      },
      "outputs": [
        {
          "output_type": "display_data",
          "data": {
            "text/plain": [
              "<Figure size 1000x500 with 1 Axes>"
            ],
            "image/png": "[encoded data removed]"
          },
          "metadata": {}
        }
      ],
      "source": [
        "plt.figure(figsize=(10,5))\n",
        "plt.bar(range(0,noOfclasses),numofSamples)\n",
        "plt.title('No of Images for each Class')\n",
        "plt.xlabel(\"Class ID\")\n",
        "plt.ylabel(\"No of Images\")\n",
        "plt.show()"
      ]
    },
    {
      "cell_type": "code",
      "execution_count": 16,
      "metadata": {
        "colab": {
          "base_uri": "https://localhost:8080/",
          "height": 447
        },
        "id": "EDBegPr-ZpKT",
        "outputId": "f29d738e-1a3b-46f9-c531-1986239cc81d"
      },
      "outputs": [
        {
          "output_type": "execute_result",
          "data": {
            "text/plain": [
              "<Axes: ylabel='count'>"
            ]
          },
          "metadata": {},
          "execution_count": 16
        },
        {
          "output_type": "display_data",
          "data": {
            "text/plain": [
              "<Figure size 640x480 with 1 Axes>"
            ],
            "image/png": "[encoded data removed]"
          },
          "metadata": {}
        }
      ],
      "source": [
        "from imblearn.under_sampling import RandomUnderSampler\n",
        "import pandas as pd\n",
        "import seaborn as sns\n",
        "X_trainShape = x_train.shape[1]*x_train.shape[2]*x_train.shape[3]\n",
        "X_trainFlat = x_train.reshape(x_train.shape[0], X_trainShape)\n",
        "Y_train = y_train\n",
        "ros = RandomUnderSampler()\n",
        "X_trainRos, Y_trainRos = ros.fit_resample(X_trainFlat, Y_train)\n",
        "# Encode labels to hot vectors (ex : 2 -> [0,0,1,0,0,0,0,0,0,0])\n",
        "Y_trainRosHot = to_categorical(Y_trainRos, num_classes = 4)\n",
        "# Make Data 2D again\n",
        "for i in range(len(X_trainRos)):\n",
        "    height, width, channels = image_size[0],image_size[1],3\n",
        "    X_trainRosReshaped = X_trainRos.reshape(len(X_trainRos),height,width,channels)\n",
        "# Plot Label Distribution\n",
        "dfRos = pd.DataFrame()\n",
        "dfRos[\"labels\"]=Y_trainRos\n",
        "labRos = dfRos['labels']\n",
        "sns.countplot(labRos)"
      ]
    },
    {
      "cell_type": "code",
      "execution_count": 17,
      "metadata": {
        "id": "yf3EFWciZzQb"
      },
      "outputs": [],
      "source": [
        "def preProcessing(img):\n",
        "    img = cv2.cvtColor(img,cv2.COLOR_BGR2GRAY)\n",
        "    return img"
      ]
    },
    {
      "cell_type": "code",
      "execution_count": 18,
      "metadata": {
        "colab": {
          "base_uri": "https://localhost:8080/"
        },
        "id": "hcTPD1NNZ2ol",
        "outputId": "8aac7d02-0466-41e3-e363-4ae8a0936586"
      },
      "outputs": [
        {
          "output_type": "stream",
          "name": "stdout",
          "text": [
            "(128, 128)\n"
          ]
        }
      ],
      "source": [
        "x_train = np.array(list(map(preProcessing,X_trainRosReshaped)))\n",
        "print(x_train[0].shape)"
      ]
    },
    {
      "cell_type": "code",
      "execution_count": 19,
      "metadata": {
        "colab": {
          "base_uri": "https://localhost:8080/"
        },
        "id": "qFYBvNxeZ6Nl",
        "outputId": "ab15b5b1-18c4-4c40-9fe0-0e683ef0e810"
      },
      "outputs": [
        {
          "output_type": "stream",
          "name": "stdout",
          "text": [
            "(128, 128)\n"
          ]
        }
      ],
      "source": [
        "x_test = np.array(list(map(preProcessing,x_test)))\n",
        "print(x_test[0].shape)"
      ]
    },
    {
      "cell_type": "code",
      "execution_count": 20,
      "metadata": {
        "colab": {
          "base_uri": "https://localhost:8080/"
        },
        "id": "Jh-jrfqPZ8oc",
        "outputId": "59898ca9-461b-4803-f23a-595f281f8bbf"
      },
      "outputs": [
        {
          "output_type": "stream",
          "name": "stdout",
          "text": [
            "(128, 128)\n"
          ]
        }
      ],
      "source": [
        "x_validation = np.array(list(map(preProcessing,x_val)))\n",
        "print(x_validation[0].shape)"
      ]
    },
    {
      "cell_type": "code",
      "execution_count": 21,
      "metadata": {
        "colab": {
          "base_uri": "https://localhost:8080/"
        },
        "id": "HwtJXVWNZ-91",
        "outputId": "983ec8ce-422f-4f25-d337-34caa532e33d"
      },
      "outputs": [
        {
          "output_type": "stream",
          "name": "stdout",
          "text": [
            "(13632, 128, 128, 1)\n"
          ]
        }
      ],
      "source": [
        "X_train = x_train.reshape(x_train.shape[0],x_train.shape[1],x_train.shape[2],1)\n",
        "print(X_train.shape)"
      ]
    },
    {
      "cell_type": "code",
      "execution_count": 22,
      "metadata": {
        "id": "xg55PXgGaBp0"
      },
      "outputs": [],
      "source": [
        "X_test = x_test.reshape(x_test.shape[0],x_test.shape[1],x_test.shape[2],1)\n",
        "X_validation = x_validation.reshape(x_validation.shape[0],x_validation.shape[1],x_validation.shape[2],1)"
      ]
    },
    {
      "cell_type": "code",
      "execution_count": 23,
      "metadata": {
        "id": "Bv_svif-aF_e"
      },
      "outputs": [],
      "source": [
        "del x_test\n",
        "del x_train\n",
        "del x_validation"
      ]
    },
    {
      "cell_type": "code",
      "execution_count": 24,
      "metadata": {
        "id": "wqhrtLNOaHeU"
      },
      "outputs": [],
      "source": [
        "y_train = to_categorical(Y_trainRos,noOfclasses)\n",
        "y_test = to_categorical(y_test,noOfclasses)\n",
        "y_validation = to_categorical(y_val,noOfclasses)"
      ]
    },
    {
      "cell_type": "code",
      "execution_count": 25,
      "metadata": {
        "id": "iO9AHRjkaKL8"
      },
      "outputs": [],
      "source": [
        "class CustomCallback(tf.keras.callbacks.Callback):\n",
        "    def __init__(self,fraction):\n",
        "        super(CustomCallback,self).__init__()\n",
        "        self.fraction = fraction\n",
        "        self.train_a = [];\n",
        "        self.val_a =[];\n",
        "\n",
        "        with open('log.txt','w') as f:\n",
        "            f.write('Starting of logging..\\n')\n",
        "\n",
        "        self.fig = plt.figure(figsize=(4,3))\n",
        "        self.ax = plt.subplot(1,1,1)\n",
        "        plt.ion()\n",
        "\n",
        "    def on_train_begin(self,logs=None):\n",
        "        self.fig.show()\n",
        "        self.fig.canvas.draw()\n",
        "\n",
        "    def on_train_end(self,logs=None):\n",
        "        with open('log.txt','a') as f:\n",
        "            f.write('End of logging..\\n')\n",
        "    def on_epoch_begin(self,epoch,logs=None):\n",
        "        lr= tf.keras.backend.get_value(self.model.optimizer.lr)\n",
        "        lr *= self.fraction\n",
        "        tf.keras.backend.set_value(self.model.optimizer.lr,lr)\n",
        "        with open('log.txt','a') as f:\n",
        "            f.write('At epoch {:02d}, learning rate changed to {:.4f}\\n'.format(epoch,lr))\n",
        "    def on_epoch_end(self,epoch,logs=None):\n",
        "        val_acc = logs.get('val_accuracy')\n",
        "        train_acc = logs.get('accuracy')\n",
        "        self.train_a.append(train_acc)\n",
        "        self.val_a.append(val_acc)\n",
        "        with open('log.txt','a') as f:\n",
        "            f.write('At epoch {:02d}, training accuracy: {:.3f}, validation accuracy: {:.3f}\\n'.format(epoch,train_acc,val_acc))\n",
        "        self.ax.clear()\n",
        "        self.ax.plot(range(1+epoch),self.train_a,label=\"Training\")\n",
        "        self.ax.plot(range(1+epoch),self.val_a,label=\"Validation\")\n",
        "        self.ax.set_xlabel('Epochs')\n",
        "        self.ax.set_ylabel('Accuracy')\n",
        "        self.ax.legend()\n",
        "        self.fig.canvas.draw()\n",
        "        self.fig.show()"
      ]
    },
    {
      "cell_type": "code",
      "execution_count": 26,
      "metadata": {
        "id": "K7rR0bCLaOOu"
      },
      "outputs": [],
      "source": [
        "def model():\n",
        "    model = Sequential();\n",
        "    model.add((Conv2D(60,(5,5),input_shape=(image_size[0],image_size[1],1)\n",
        "    ,activation=\"relu\")))\n",
        "\n",
        "    model.add((Conv2D(60,(5,5),activation=\"relu\")))\n",
        "    model.add((Conv2D(60//2,(4,4),activation=\"relu\")))\n",
        "    model.add((Conv2D(60//2,(4,4),activation=\"relu\")))\n",
        "    model.add(MaxPooling2D(pool_size=(2,2)))\n",
        "    model.add(Dropout(0.2))\n",
        "\n",
        "    model.add((Conv2D(60,(5,5),activation=\"relu\")))\n",
        "    model.add((Conv2D(60//2,(4,4),activation=\"relu\")))\n",
        "    model.add((Conv2D(60//2,(4,4),activation=\"relu\")))\n",
        "    model.add(MaxPooling2D(pool_size=(2,2)))\n",
        "    model.add(Dropout(0.2))\n",
        "\n",
        "    model.add((Conv2D(60,(4,4),activation=\"relu\")))\n",
        "    model.add(MaxPooling2D(pool_size=(2,2)))\n",
        "    model.add((Conv2D(60//2,(3,3),activation=\"relu\")))\n",
        "    model.add((Conv2D(60//2,(3,3),activation=\"relu\")))\n",
        "    model.add(MaxPooling2D(pool_size=(2,2)))\n",
        "    model.add(Dropout(0.2))\n",
        "\n",
        "    model.add(Flatten())\n",
        "    model.add(Dense(5000,activation=\"relu\"))\n",
        "    model.add(Dropout(0.2))\n",
        "    model.add(Dense(noOfclasses,activation=\"softmax\"))\n",
        "\n",
        "    model.compile(Adam(learning_rate=0.001),loss=\"categorical_crossentropy\",metrics=['accuracy'])\n",
        "\n",
        "    return model\n",
        "\n",
        "model=model()"
      ]
    },
    {
      "cell_type": "code",
      "execution_count": null,
      "metadata": {
        "colab": {
          "base_uri": "https://localhost:8080/"
        },
        "id": "_BckhXpaaRYc",
        "outputId": "94fa1658-549a-4928-f445-b3ba8e07f61d"
      },
      "outputs": [
        {
          "output_type": "stream",
          "name": "stdout",
          "text": [
            "Model: \"sequential\"\n",
            "_________________________________________________________________\n",
            " Layer (type)                Output Shape              Param #   \n",
            "=================================================================\n",
            " conv2d (Conv2D)             (None, 124, 124, 60)      1560      \n",
            "                                                                 \n",
            " conv2d_1 (Conv2D)           (None, 120, 120, 60)      90060     \n",
            "                                                                 \n",
            " conv2d_2 (Conv2D)           (None, 117, 117, 30)      28830     \n",
            "                                                                 \n",
            " conv2d_3 (Conv2D)           (None, 114, 114, 30)      14430     \n",
            "                                                                 \n",
            " max_pooling2d (MaxPooling2D  (None, 57, 57, 30)       0         \n",
            " )                                                               \n",
            "                                                                 \n",
            " dropout (Dropout)           (None, 57, 57, 30)        0         \n",
            "                                                                 \n",
            " conv2d_4 (Conv2D)           (None, 53, 53, 60)        45060     \n",
            "                                                                 \n",
            " conv2d_5 (Conv2D)           (None, 50, 50, 30)        28830     \n",
            "                                                                 \n",
            " conv2d_6 (Conv2D)           (None, 47, 47, 30)        14430     \n",
            "                                                                 \n",
            " max_pooling2d_1 (MaxPooling  (None, 23, 23, 30)       0         \n",
            " 2D)                                                             \n",
            "                                                                 \n",
            " dropout_1 (Dropout)         (None, 23, 23, 30)        0         \n",
            "                                                                 \n",
            " conv2d_7 (Conv2D)           (None, 20, 20, 60)        28860     \n",
            "                                                                 \n",
            " max_pooling2d_2 (MaxPooling  (None, 10, 10, 60)       0         \n",
            " 2D)                                                             \n",
            "                                                                 \n",
            " conv2d_8 (Conv2D)           (None, 8, 8, 30)          16230     \n",
            "                                                                 \n",
            " conv2d_9 (Conv2D)           (None, 6, 6, 30)          8130      \n",
            "                                                                 \n",
            " max_pooling2d_3 (MaxPooling  (None, 3, 3, 30)         0         \n",
            " 2D)                                                             \n",
            "                                                                 \n",
            " dropout_2 (Dropout)         (None, 3, 3, 30)          0         \n",
            "                                                                 \n",
            " flatten (Flatten)           (None, 270)               0         \n",
            "                                                                 \n",
            " dense (Dense)               (None, 5000)              1355000   \n",
            "                                                                 \n",
            " dropout_3 (Dropout)         (None, 5000)              0         \n",
            "                                                                 \n",
            " dense_1 (Dense)             (None, 4)                 20004     \n",
            "                                                                 \n",
            "=================================================================\n",
            "Total params: 1,651,424\n",
            "Trainable params: 1,651,424\n",
            "Non-trainable params: 0\n",
            "_________________________________________________________________\n"
          ]
        }
      ],
      "source": [
        "model.summary()"
      ]
    },
    {
      "cell_type": "code",
      "execution_count": 27,
      "metadata": {
        "id": "1Hex0ieiaUjt"
      },
      "outputs": [],
      "source": [
        "os.environ[\"CUDA_VISIBLE_DEVICES\"]=\"0\""
      ]
    },
    {
      "cell_type": "code",
      "execution_count": 28,
      "metadata": {
        "colab": {
          "base_uri": "https://localhost:8080/",
          "height": 1000
        },
        "id": "jndBB0bzalr-",
        "outputId": "00441b99-d72a-4c5a-b789-f24d02a5688a"
      },
      "outputs": [
        {
          "output_type": "stream",
          "name": "stdout",
          "text": [
            "Epoch 1/50\n",
            "  6/426 [..............................] - ETA: 45s - loss: 1.4771 - accuracy: 0.2917"
          ]
        },
        {
          "output_type": "stream",
          "name": "stderr",
          "text": [
            "WARNING:tensorflow:Callback method `on_train_batch_end` is slow compared to the batch time (batch time: 0.0092s vs `on_train_batch_end` time: 0.0819s). Check your callbacks.\n"
          ]
        },
        {
          "output_type": "stream",
          "name": "stdout",
          "text": [
            "426/426 [==============================] - 66s 110ms/step - loss: 1.1428 - accuracy: 0.4569 - val_loss: 0.7191 - val_accuracy: 0.7188\n",
            "Epoch 2/50\n",
            "426/426 [==============================] - 48s 112ms/step - loss: 0.9276 - accuracy: 0.6056 - val_loss: 0.5536 - val_accuracy: 0.8125\n",
            "Epoch 3/50\n",
            "426/426 [==============================] - 48s 113ms/step - loss: 0.7369 - accuracy: 0.7072 - val_loss: 0.4612 - val_accuracy: 0.8438\n",
            "Epoch 4/50\n",
            "426/426 [==============================] - 48s 113ms/step - loss: 0.5499 - accuracy: 0.7944 - val_loss: 0.1241 - val_accuracy: 0.9688\n",
            "Epoch 5/50\n",
            "426/426 [==============================] - 48s 112ms/step - loss: 0.4452 - accuracy: 0.8369 - val_loss: 0.1254 - val_accuracy: 0.9688\n",
            "Epoch 6/50\n",
            "426/426 [==============================] - 48s 112ms/step - loss: 0.3889 - accuracy: 0.8605 - val_loss: 0.1608 - val_accuracy: 0.9375\n",
            "Epoch 7/50\n",
            "426/426 [==============================] - 48s 112ms/step - loss: 0.3388 - accuracy: 0.8798 - val_loss: 0.1097 - val_accuracy: 0.9688\n",
            "Epoch 8/50\n",
            "426/426 [==============================] - 48s 113ms/step - loss: 0.3051 - accuracy: 0.8940 - val_loss: 0.0899 - val_accuracy: 0.9688\n",
            "Epoch 9/50\n",
            "426/426 [==============================] - 48s 112ms/step - loss: 0.2843 - accuracy: 0.9021 - val_loss: 0.1283 - val_accuracy: 0.9688\n",
            "Epoch 10/50\n",
            "426/426 [==============================] - 48s 112ms/step - loss: 0.2476 - accuracy: 0.9128 - val_loss: 0.0578 - val_accuracy: 0.9688\n",
            "Epoch 11/50\n",
            "426/426 [==============================] - 48s 112ms/step - loss: 0.2333 - accuracy: 0.9168 - val_loss: 0.0826 - val_accuracy: 0.9688\n",
            "Epoch 12/50\n",
            "426/426 [==============================] - 48s 112ms/step - loss: 0.2131 - accuracy: 0.9269 - val_loss: 0.1416 - val_accuracy: 0.9688\n",
            "Epoch 13/50\n",
            "426/426 [==============================] - 48s 112ms/step - loss: 0.1865 - accuracy: 0.9357 - val_loss: 0.1103 - val_accuracy: 0.9688\n",
            "Epoch 14/50\n",
            "426/426 [==============================] - 48s 112ms/step - loss: 0.1792 - accuracy: 0.9375 - val_loss: 0.1141 - val_accuracy: 0.9375\n",
            "Epoch 15/50\n",
            "426/426 [==============================] - 48s 113ms/step - loss: 0.1592 - accuracy: 0.9440 - val_loss: 0.0697 - val_accuracy: 0.9688\n",
            "Epoch 16/50\n",
            "426/426 [==============================] - 48s 112ms/step - loss: 0.1469 - accuracy: 0.9499 - val_loss: 0.1214 - val_accuracy: 0.9688\n",
            "Epoch 17/50\n",
            "426/426 [==============================] - 48s 112ms/step - loss: 0.1376 - accuracy: 0.9536 - val_loss: 0.1892 - val_accuracy: 0.9688\n",
            "Epoch 18/50\n",
            "426/426 [==============================] - 48s 113ms/step - loss: 0.1260 - accuracy: 0.9540 - val_loss: 0.1980 - val_accuracy: 0.9062\n",
            "Epoch 19/50\n",
            "426/426 [==============================] - 48s 113ms/step - loss: 0.1202 - accuracy: 0.9564 - val_loss: 0.1456 - val_accuracy: 0.9688\n",
            "Epoch 20/50\n",
            "426/426 [==============================] - 48s 112ms/step - loss: 0.1087 - accuracy: 0.9620 - val_loss: 0.0953 - val_accuracy: 0.9688\n",
            "Epoch 21/50\n",
            "426/426 [==============================] - 48s 112ms/step - loss: 0.1079 - accuracy: 0.9627 - val_loss: 0.1427 - val_accuracy: 0.9375\n",
            "Epoch 22/50\n",
            "426/426 [==============================] - 48s 113ms/step - loss: 0.0973 - accuracy: 0.9668 - val_loss: 0.0663 - val_accuracy: 0.9688\n",
            "Epoch 23/50\n",
            "426/426 [==============================] - 48s 113ms/step - loss: 0.0909 - accuracy: 0.9674 - val_loss: 0.0632 - val_accuracy: 1.0000\n",
            "Epoch 24/50\n",
            "426/426 [==============================] - 48s 113ms/step - loss: 0.0872 - accuracy: 0.9699 - val_loss: 0.1165 - val_accuracy: 0.9688\n",
            "Epoch 25/50\n",
            "426/426 [==============================] - 48s 113ms/step - loss: 0.0827 - accuracy: 0.9722 - val_loss: 0.1285 - val_accuracy: 0.9688\n",
            "Epoch 26/50\n",
            "426/426 [==============================] - 48s 113ms/step - loss: 0.0766 - accuracy: 0.9751 - val_loss: 0.1245 - val_accuracy: 0.9688\n",
            "Epoch 27/50\n",
            "426/426 [==============================] - 48s 113ms/step - loss: 0.0722 - accuracy: 0.9754 - val_loss: 0.0759 - val_accuracy: 0.9688\n",
            "Epoch 28/50\n",
            "426/426 [==============================] - 48s 113ms/step - loss: 0.0670 - accuracy: 0.9770 - val_loss: 0.0715 - val_accuracy: 0.9688\n",
            "Epoch 29/50\n",
            "426/426 [==============================] - 48s 114ms/step - loss: 0.0699 - accuracy: 0.9747 - val_loss: 0.0736 - val_accuracy: 0.9688\n",
            "Epoch 30/50\n",
            "426/426 [==============================] - 48s 114ms/step - loss: 0.0664 - accuracy: 0.9777 - val_loss: 0.1709 - val_accuracy: 0.9688\n",
            "Epoch 31/50\n",
            "426/426 [==============================] - 49s 114ms/step - loss: 0.0614 - accuracy: 0.9778 - val_loss: 0.1284 - val_accuracy: 0.9688\n",
            "Epoch 32/50\n",
            "426/426 [==============================] - 48s 114ms/step - loss: 0.0607 - accuracy: 0.9790 - val_loss: 0.1030 - val_accuracy: 0.9688\n",
            "Epoch 33/50\n",
            "426/426 [==============================] - 48s 113ms/step - loss: 0.0583 - accuracy: 0.9789 - val_loss: 0.1386 - val_accuracy: 0.9688\n",
            "Epoch 34/50\n",
            "426/426 [==============================] - 49s 115ms/step - loss: 0.0571 - accuracy: 0.9807 - val_loss: 0.1822 - val_accuracy: 0.9375\n",
            "Epoch 35/50\n",
            "426/426 [==============================] - 49s 114ms/step - loss: 0.0566 - accuracy: 0.9798 - val_loss: 0.1415 - val_accuracy: 0.9688\n",
            "Epoch 36/50\n",
            "426/426 [==============================] - 48s 113ms/step - loss: 0.0575 - accuracy: 0.9797 - val_loss: 0.1125 - val_accuracy: 0.9688\n",
            "Epoch 37/50\n",
            "426/426 [==============================] - 48s 113ms/step - loss: 0.0544 - accuracy: 0.9826 - val_loss: 0.1390 - val_accuracy: 0.9688\n",
            "Epoch 38/50\n",
            "426/426 [==============================] - 48s 113ms/step - loss: 0.0531 - accuracy: 0.9817 - val_loss: 0.1400 - val_accuracy: 0.9688\n",
            "Epoch 39/50\n",
            "426/426 [==============================] - 48s 113ms/step - loss: 0.0538 - accuracy: 0.9799 - val_loss: 0.1613 - val_accuracy: 0.9688\n",
            "Epoch 40/50\n",
            "426/426 [==============================] - 48s 113ms/step - loss: 0.0523 - accuracy: 0.9816 - val_loss: 0.1234 - val_accuracy: 0.9688\n",
            "Epoch 41/50\n",
            "426/426 [==============================] - 48s 113ms/step - loss: 0.0500 - accuracy: 0.9829 - val_loss: 0.1162 - val_accuracy: 0.9688\n",
            "Epoch 42/50\n",
            "426/426 [==============================] - 48s 113ms/step - loss: 0.0497 - accuracy: 0.9831 - val_loss: 0.1257 - val_accuracy: 0.9688\n",
            "Epoch 43/50\n",
            "426/426 [==============================] - 48s 113ms/step - loss: 0.0484 - accuracy: 0.9840 - val_loss: 0.1403 - val_accuracy: 0.9688\n",
            "Epoch 44/50\n",
            "426/426 [==============================] - 48s 113ms/step - loss: 0.0486 - accuracy: 0.9836 - val_loss: 0.1462 - val_accuracy: 0.9688\n",
            "Epoch 45/50\n",
            "426/426 [==============================] - 48s 114ms/step - loss: 0.0483 - accuracy: 0.9833 - val_loss: 0.1184 - val_accuracy: 0.9688\n",
            "Epoch 46/50\n",
            "426/426 [==============================] - 48s 113ms/step - loss: 0.0490 - accuracy: 0.9836 - val_loss: 0.1129 - val_accuracy: 0.9688\n",
            "Epoch 47/50\n",
            "426/426 [==============================] - 48s 113ms/step - loss: 0.0471 - accuracy: 0.9843 - val_loss: 0.1347 - val_accuracy: 0.9688\n",
            "Epoch 48/50\n",
            "426/426 [==============================] - 48s 113ms/step - loss: 0.0505 - accuracy: 0.9822 - val_loss: 0.1233 - val_accuracy: 0.9688\n",
            "Epoch 49/50\n",
            "426/426 [==============================] - 48s 113ms/step - loss: 0.0459 - accuracy: 0.9835 - val_loss: 0.1002 - val_accuracy: 0.9688\n",
            "Epoch 50/50\n",
            "426/426 [==============================] - 48s 113ms/step - loss: 0.0455 - accuracy: 0.9849 - val_loss: 0.1104 - val_accuracy: 0.9688\n"
          ]
        },
        {
          "output_type": "display_data",
          "data": {
            "text/plain": [
              "<Figure size 400x300 with 1 Axes>"
            ],
            "image/png": "[encoded data removed]"
          },
          "metadata": {}
        }
      ],
      "source": [
        "history = model.fit(X_train,Y_trainRosHot,epochs=50,validation_data =(X_validation,y_validation) ,batch_size=32,\n",
        "                    shuffle=True,\n",
        "                    max_queue_size=100,\n",
        "                    use_multiprocessing=True,\n",
        "                    workers=1,\n",
        "                   callbacks=[CustomCallback(fraction=0.9)])"
      ]
    },
    {
      "cell_type": "code",
      "source": [
        "plt.figure(1)\n",
        "plt.plot(history.history['loss'])\n",
        "plt.plot(history.history['val_loss'])\n",
        "plt.legend(['training','validation'])\n",
        "plt.title('Loss')\n",
        "plt.xlabel('epoch')\n",
        "plt.figure(2)\n",
        "plt.plot(history.history['accuracy'])\n",
        "plt.plot(history.history['val_accuracy'])\n",
        "plt.legend(['training','validation'])\n",
        "plt.title('Accuracy')\n",
        "plt.xlabel('epoch')\n",
        "plt.show()"
      ],
      "metadata": {
        "id": "Yk1BfvKtzJ3F",
        "colab": {
          "base_uri": "https://localhost:8080/",
          "height": 927
        },
        "outputId": "40d6fd22-8555-4876-f074-aab8a0480b75"
      },
      "execution_count": 29,
      "outputs": [
        {
          "output_type": "display_data",
          "data": {
            "text/plain": [
              "<Figure size 640x480 with 1 Axes>"
            ],
            "image/png": "[encoded data removed]"
          },
          "metadata": {}
        },
        {
          "output_type": "display_data",
          "data": {
            "text/plain": [
              "<Figure size 640x480 with 1 Axes>"
            ],
            "image/png": "[encoded data removed]"
          },
          "metadata": {}
        }
      ]
    },
    {
      "cell_type": "code",
      "source": [
        "score = model.evaluate(X_test,y_test,verbose=0)\n",
        "print('Test Score = ',score[0])\n",
        "print('Test Accuracy = ',score[1])\n",
        "print('val_accuracy')"
      ],
      "metadata": {
        "id": "pk8iz4XrzRHE",
        "colab": {
          "base_uri": "https://localhost:8080/"
        },
        "outputId": "3ca101d5-cbc1-4da4-b927-c72e75f7750e"
      },
      "execution_count": 30,
      "outputs": [
        {
          "output_type": "stream",
          "name": "stdout",
          "text": [
            "Test Score =  0.08851577341556549\n",
            "Test Accuracy =  0.9834710955619812\n",
            "val_accuracy\n"
          ]
        }
      ]
    }
  ],
  "metadata": {
    "accelerator": "GPU",
    "colab": {
      "machine_shape": "hm",
      "provenance": [],
      "gpuType": "T4",
      "mount_file_id": "1JXnztNFHGB5sqPWgHUc6jdANbGUKgumv",
      "authorship_tag": "ABX9TyO6MHrQy46hnavCCrxUtIlc",
      "include_colab_link": true
    },
    "kernelspec": {
      "display_name": "Python 3",
      "name": "python3"
    },
    "language_info": {
      "name": "python"
    }
  },
  "nbformat": 4,
  "nbformat_minor": 0
}